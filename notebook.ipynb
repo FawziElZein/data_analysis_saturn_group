{
 "cells": [
  {
   "cell_type": "code",
   "execution_count": 1,
   "metadata": {},
   "outputs": [
    {
     "name": "stdout",
     "output_type": "stream",
     "text": [
      "An error occurred: 403 Client Error: Forbidden for url: https://www.coingecko.com/price_charts/export/1/usd.csv\n"
     ]
    }
   ],
   "source": [
    "from pandas_data_handler import download_csv_to_dataframe\n",
    "from lookups import CsvUrl\n",
    "\n",
    "# Example usage:\n",
    "data_frame = download_csv_to_dataframe(CsvUrl.BITCOIN_USD_HISTORICAL_DATA)\n",
    "\n",
    "if data_frame is not None:\n",
    "    print(data_frame.head())\n",
    "\n"
   ]
  },
  {
   "cell_type": "code",
   "execution_count": 3,
   "metadata": {},
   "outputs": [
    {
     "data": {
      "text/html": [
       "<div>\n",
       "<style scoped>\n",
       "    .dataframe tbody tr th:only-of-type {\n",
       "        vertical-align: middle;\n",
       "    }\n",
       "\n",
       "    .dataframe tbody tr th {\n",
       "        vertical-align: top;\n",
       "    }\n",
       "\n",
       "    .dataframe thead th {\n",
       "        text-align: right;\n",
       "    }\n",
       "</style>\n",
       "<table border=\"1\" class=\"dataframe\">\n",
       "  <thead>\n",
       "    <tr style=\"text-align: right;\">\n",
       "      <th></th>\n",
       "      <th>Datetime</th>\n",
       "      <th>Tweet Id</th>\n",
       "      <th>Text</th>\n",
       "    </tr>\n",
       "  </thead>\n",
       "  <tbody>\n",
       "    <tr>\n",
       "      <th>0</th>\n",
       "      <td>01/01/2021 00:58</td>\n",
       "      <td>1.344810e+18</td>\n",
       "      <td>@PPathole Dojo isnât needed, but will make s...</td>\n",
       "    </tr>\n",
       "    <tr>\n",
       "      <th>1</th>\n",
       "      <td>02/01/2021 03:20</td>\n",
       "      <td>1.345210e+18</td>\n",
       "      <td>@comma_ai Tesla Full Self-Driving will work at...</td>\n",
       "    </tr>\n",
       "    <tr>\n",
       "      <th>2</th>\n",
       "      <td>02/01/2021 12:23</td>\n",
       "      <td>1.345340e+18</td>\n",
       "      <td>@newscientist Um, we have giant fusion reactor...</td>\n",
       "    </tr>\n",
       "    <tr>\n",
       "      <th>3</th>\n",
       "      <td>02/01/2021 14:51</td>\n",
       "      <td>1.345380e+18</td>\n",
       "      <td>So proud of the Tesla team for achieving this ...</td>\n",
       "    </tr>\n",
       "    <tr>\n",
       "      <th>4</th>\n",
       "      <td>02/01/2021 14:59</td>\n",
       "      <td>1.345380e+18</td>\n",
       "      <td>@flcnhvy Tesla is responsible for 2/3 of all t...</td>\n",
       "    </tr>\n",
       "    <tr>\n",
       "      <th>...</th>\n",
       "      <td>...</td>\n",
       "      <td>...</td>\n",
       "      <td>...</td>\n",
       "    </tr>\n",
       "    <tr>\n",
       "      <th>2988</th>\n",
       "      <td>30/12/2021 18:23</td>\n",
       "      <td>1.476620e+18</td>\n",
       "      <td>@BLKMDL3 @mims Predicting macroeconomics is ch...</td>\n",
       "    </tr>\n",
       "    <tr>\n",
       "      <th>2989</th>\n",
       "      <td>30/12/2021 20:28</td>\n",
       "      <td>1.476650e+18</td>\n",
       "      <td>@CSmithson80 @heydave7 @BLKMDL3 @mims This cha...</td>\n",
       "    </tr>\n",
       "    <tr>\n",
       "      <th>2990</th>\n",
       "      <td>30/12/2021 20:47</td>\n",
       "      <td>1.476660e+18</td>\n",
       "      <td>@tesla_raj Many UI improvements coming</td>\n",
       "    </tr>\n",
       "    <tr>\n",
       "      <th>2991</th>\n",
       "      <td>30/12/2021 21:11</td>\n",
       "      <td>1.476660e+18</td>\n",
       "      <td>@roshanpateI ð¤£ $7</td>\n",
       "    </tr>\n",
       "    <tr>\n",
       "      <th>2992</th>\n",
       "      <td>31/12/2021 02:23</td>\n",
       "      <td>1.476740e+18</td>\n",
       "      <td>@TheBabylonBee ð¤£</td>\n",
       "    </tr>\n",
       "  </tbody>\n",
       "</table>\n",
       "<p>2993 rows × 3 columns</p>\n",
       "</div>"
      ],
      "text/plain": [
       "              Datetime      Tweet Id  \\\n",
       "0     01/01/2021 00:58  1.344810e+18   \n",
       "1     02/01/2021 03:20  1.345210e+18   \n",
       "2     02/01/2021 12:23  1.345340e+18   \n",
       "3     02/01/2021 14:51  1.345380e+18   \n",
       "4     02/01/2021 14:59  1.345380e+18   \n",
       "...                ...           ...   \n",
       "2988  30/12/2021 18:23  1.476620e+18   \n",
       "2989  30/12/2021 20:28  1.476650e+18   \n",
       "2990  30/12/2021 20:47  1.476660e+18   \n",
       "2991  30/12/2021 21:11  1.476660e+18   \n",
       "2992  31/12/2021 02:23  1.476740e+18   \n",
       "\n",
       "                                                   Text  \n",
       "0     @PPathole Dojo isnât needed, but will make s...  \n",
       "1     @comma_ai Tesla Full Self-Driving will work at...  \n",
       "2     @newscientist Um, we have giant fusion reactor...  \n",
       "3     So proud of the Tesla team for achieving this ...  \n",
       "4     @flcnhvy Tesla is responsible for 2/3 of all t...  \n",
       "...                                                 ...  \n",
       "2988  @BLKMDL3 @mims Predicting macroeconomics is ch...  \n",
       "2989  @CSmithson80 @heydave7 @BLKMDL3 @mims This cha...  \n",
       "2990             @tesla_raj Many UI improvements coming  \n",
       "2991                               @roshanpateI ð¤£ $7  \n",
       "2992                                @TheBabylonBee ð¤£  \n",
       "\n",
       "[2993 rows x 3 columns]"
      ]
     },
     "execution_count": 3,
     "metadata": {},
     "output_type": "execute_result"
    }
   ],
   "source": [
    "data_frame\n"
   ]
  },
  {
   "cell_type": "code",
   "execution_count": 1,
   "metadata": {},
   "outputs": [
    {
     "name": "stdout",
     "output_type": "stream",
     "text": [
      "[{'id': 1, 'name': 'Bitcoin', 'symbol': 'BTC', 'slug': 'bitcoin', 'num_market_pairs': 10475, 'date_added': '2010-07-13T00:00:00.000Z', 'tags': ['mineable', 'pow', 'sha-256', 'store-of-value', 'state-channel', 'coinbase-ventures-portfolio', 'three-arrows-capital-portfolio', 'polychain-capital-portfolio', 'binance-labs-portfolio', 'blockchain-capital-portfolio', 'boostvc-portfolio', 'cms-holdings-portfolio', 'dcg-portfolio', 'dragonfly-capital-portfolio', 'electric-capital-portfolio', 'fabric-ventures-portfolio', 'framework-ventures-portfolio', 'galaxy-digital-portfolio', 'huobi-capital-portfolio', 'alameda-research-portfolio', 'a16z-portfolio', '1confirmation-portfolio', 'winklevoss-capital-portfolio', 'usv-portfolio', 'placeholder-ventures-portfolio', 'pantera-capital-portfolio', 'multicoin-capital-portfolio', 'paradigm-portfolio', 'bitcoin-ecosystem', 'ftx-bankruptcy-estate'], 'max_supply': 21000000, 'circulating_supply': 19491568, 'total_supply': 19491568, 'infinite_supply': False, 'platform': None, 'cmc_rank': 1, 'self_reported_circulating_supply': None, 'self_reported_market_cap': None, 'tvl_ratio': None, 'last_updated': '2023-09-21T04:05:00.000Z', 'quote': {'USD': {'price': 27021.62556040232, 'volume_24h': 13056355033.884113, 'volume_change_24h': -7.5557, 'percent_change_1h': 0.1316774, 'percent_change_24h': -0.32990617, 'percent_change_7d': 2.84616858, 'percent_change_30d': 3.80199017, 'percent_change_60d': -9.51466949, 'percent_change_90d': -10.00606592, 'market_cap': 526693852081.11993, 'market_cap_dominance': 49.176, 'fully_diluted_market_cap': 567454136768.45, 'tvl': None, 'last_updated': '2023-09-21T04:05:00.000Z'}}}, {'id': 1027, 'name': 'Ethereum', 'symbol': 'ETH', 'slug': 'ethereum', 'num_market_pairs': 7415, 'date_added': '2015-08-07T00:00:00.000Z', 'tags': ['pos', 'smart-contracts', 'ethereum-ecosystem', 'coinbase-ventures-portfolio', 'three-arrows-capital-portfolio', 'polychain-capital-portfolio', 'binance-labs-portfolio', 'blockchain-capital-portfolio', 'boostvc-portfolio', 'cms-holdings-portfolio', 'dcg-portfolio', 'dragonfly-capital-portfolio', 'electric-capital-portfolio', 'fabric-ventures-portfolio', 'framework-ventures-portfolio', 'hashkey-capital-portfolio', 'kenetic-capital-portfolio', 'huobi-capital-portfolio', 'alameda-research-portfolio', 'a16z-portfolio', '1confirmation-portfolio', 'winklevoss-capital-portfolio', 'usv-portfolio', 'placeholder-ventures-portfolio', 'pantera-capital-portfolio', 'multicoin-capital-portfolio', 'paradigm-portfolio', 'injective-ecosystem', 'layer-1', 'ftx-bankruptcy-estate'], 'max_supply': None, 'circulating_supply': 120225540.83014292, 'total_supply': 120225540.83014292, 'infinite_supply': True, 'platform': None, 'cmc_rank': 2, 'self_reported_circulating_supply': None, 'self_reported_market_cap': None, 'tvl_ratio': None, 'last_updated': '2023-09-21T04:05:00.000Z', 'quote': {'USD': {'price': 1622.5451268449574, 'volume_24h': 5222706717.594132, 'volume_change_24h': 19.3504, 'percent_change_1h': 0.20007915, 'percent_change_24h': -0.87723409, 'percent_change_7d': 0.10631929, 'percent_change_30d': -2.44602702, 'percent_change_60d': -13.25928636, 'percent_change_90d': -13.81025803, 'market_cap': 195071365396.24783, 'market_cap_dominance': 18.2131, 'fully_diluted_market_cap': 195071365396.25, 'tvl': None, 'last_updated': '2023-09-21T04:05:00.000Z'}}}, {'id': 825, 'name': 'Tether USDt', 'symbol': 'USDT', 'slug': 'tether', 'num_market_pairs': 62580, 'date_added': '2015-02-25T00:00:00.000Z', 'tags': ['payments', 'stablecoin', 'asset-backed-stablecoin', 'avalanche-ecosystem', 'solana-ecosystem', 'arbitrum-ecosytem', 'moonriver-ecosystem', 'injective-ecosystem', 'bnb-chain', 'usd-stablecoin', 'optimism-ecosystem'], 'max_supply': None, 'circulating_supply': 83191016572.37025, 'total_supply': 86426198726.43625, 'platform': {'id': 1027, 'name': 'Ethereum', 'symbol': 'ETH', 'slug': 'ethereum', 'token_address': '0xdac17f958d2ee523a2206206994597c13d831ec7'}, 'infinite_supply': True, 'cmc_rank': 3, 'self_reported_circulating_supply': None, 'self_reported_market_cap': None, 'tvl_ratio': None, 'last_updated': '2023-09-21T04:05:00.000Z', 'quote': {'USD': {'price': 1.0001648323106935, 'volume_24h': 20878348354.632835, 'volume_change_24h': 3.4848, 'percent_change_1h': 0.01408852, 'percent_change_24h': -0.0003398, 'percent_change_7d': 0.00730438, 'percent_change_30d': 0.05249274, 'percent_change_60d': 0.00242843, 'percent_change_90d': 0.00285148, 'market_cap': 83204729139.86082, 'market_cap_dominance': 7.7686, 'fully_diluted_market_cap': 86440444556.48, 'tvl': None, 'last_updated': '2023-09-21T04:05:00.000Z'}}}, {'id': 1839, 'name': 'BNB', 'symbol': 'BNB', 'slug': 'bnb', 'num_market_pairs': 1631, 'date_added': '2017-07-25T00:00:00.000Z', 'tags': ['marketplace', 'centralized-exchange', 'payments', 'smart-contracts', 'alameda-research-portfolio', 'multicoin-capital-portfolio', 'bnb-chain', 'layer-1', 'sec-security-token', 'alleged-sec-securities', 'celsius-bankruptcy-estate'], 'max_supply': None, 'circulating_supply': 153847800.54376468, 'total_supply': 153847800.54376468, 'infinite_supply': False, 'platform': None, 'cmc_rank': 4, 'self_reported_circulating_supply': None, 'self_reported_market_cap': None, 'tvl_ratio': None, 'last_updated': '2023-09-21T04:05:00.000Z', 'quote': {'USD': {'price': 214.970318640548, 'volume_24h': 382337209.30940676, 'volume_change_24h': -0.2239, 'percent_change_1h': 0.25947663, 'percent_change_24h': -0.62262213, 'percent_change_7d': 1.37262744, 'percent_change_30d': 2.33489852, 'percent_change_60d': -11.15155726, 'percent_change_90d': -11.12640875, 'market_cap': 33072710705.040565, 'market_cap_dominance': 3.0879, 'fully_diluted_market_cap': 33072710705.04, 'tvl': None, 'last_updated': '2023-09-21T04:05:00.000Z'}}}, {'id': 52, 'name': 'XRP', 'symbol': 'XRP', 'slug': 'xrp', 'num_market_pairs': 1096, 'date_added': '2013-08-04T00:00:00.000Z', 'tags': ['medium-of-exchange', 'enterprise-solutions', 'arrington-xrp-capital-portfolio', 'galaxy-digital-portfolio', 'a16z-portfolio', 'pantera-capital-portfolio', 'ftx-bankruptcy-estate'], 'max_supply': 100000000000, 'circulating_supply': 53175400720, 'total_supply': 99988428101, 'infinite_supply': False, 'platform': None, 'cmc_rank': 5, 'self_reported_circulating_supply': None, 'self_reported_market_cap': None, 'tvl_ratio': None, 'last_updated': '2023-09-21T04:05:00.000Z', 'quote': {'USD': {'price': 0.517976149329635, 'volume_24h': 1066146221.9165273, 'volume_change_24h': 9.0557, 'percent_change_1h': 0.26080346, 'percent_change_24h': -0.92112913, 'percent_change_7d': 6.85007809, 'percent_change_30d': -0.65984975, 'percent_change_60d': -29.726557, 'percent_change_90d': 3.4674249, 'market_cap': 27543589304.0059, 'market_cap_dominance': 2.5717, 'fully_diluted_market_cap': 51797614932.96, 'tvl': None, 'last_updated': '2023-09-21T04:05:00.000Z'}}}]\n",
      "BTC 27021.62556040232\n",
      "ETH 1622.5451268449574\n",
      "USDT 1.0001648323106935\n",
      "BNB 214.970318640548\n",
      "XRP 0.517976149329635\n"
     ]
    }
   ],
   "source": [
    "!python bitcoin.py"
   ]
  }
 ],
 "metadata": {
  "kernelspec": {
   "display_name": "sefactory_env",
   "language": "python",
   "name": "python3"
  },
  "language_info": {
   "codemirror_mode": {
    "name": "ipython",
    "version": 3
   },
   "file_extension": ".py",
   "mimetype": "text/x-python",
   "name": "python",
   "nbconvert_exporter": "python",
   "pygments_lexer": "ipython3",
   "version": "3.10.9"
  },
  "orig_nbformat": 4
 },
 "nbformat": 4,
 "nbformat_minor": 2
}
